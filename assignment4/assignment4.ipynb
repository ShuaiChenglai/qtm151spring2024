{
 "cells": [
  {
   "cell_type": "markdown",
   "metadata": {},
   "source": [
    "# Assignment 4"
   ]
  },
  {
   "cell_type": "markdown",
   "metadata": {},
   "source": [
    "## Submit as an HTML file"
   ]
  },
  {
   "cell_type": "markdown",
   "metadata": {},
   "source": [
    "<font size = \"5\">\n",
    "Print your Emory ID below"
   ]
  },
  {
   "cell_type": "code",
   "execution_count": 1,
   "metadata": {},
   "outputs": [
    {
     "name": "stdout",
     "output_type": "stream",
     "text": [
      "2635065\n"
     ]
    }
   ],
   "source": [
    "print(\"2635065\")"
   ]
  },
  {
   "cell_type": "markdown",
   "metadata": {},
   "source": [
    "<font size = \"5\">\n",
    "\n",
    "Import both the MatPlotLib and Numpy libraries"
   ]
  },
  {
   "cell_type": "code",
   "execution_count": 12,
   "metadata": {},
   "outputs": [
    {
     "ename": "TypeError",
     "evalue": "can only concatenate str (not \"int\") to str",
     "output_type": "error",
     "traceback": [
      "\u001b[1;31m---------------------------------------------------------------------------\u001b[0m",
      "\u001b[1;31mTypeError\u001b[0m                                 Traceback (most recent call last)",
      "Cell \u001b[1;32mIn[12], line 16\u001b[0m\n\u001b[0;32m     13\u001b[0m max_number \u001b[38;5;241m=\u001b[39m \u001b[38;5;28mmax\u001b[39m(mydata)\n\u001b[0;32m     15\u001b[0m \u001b[38;5;66;03m# Generate a list of all numbers in this range\u001b[39;00m\n\u001b[1;32m---> 16\u001b[0m all_numbers \u001b[38;5;241m=\u001b[39m \u001b[38;5;28mset\u001b[39m(\u001b[38;5;28mrange\u001b[39m(\u001b[38;5;28mint\u001b[39m((min_number, max_number \u001b[38;5;241m+\u001b[39m \u001b[38;5;241m1\u001b[39m))))\n\u001b[0;32m     18\u001b[0m \u001b[38;5;66;03m# Find the set of numbers that are missing by subtracting the set of existing numbers from the set of all numbers\u001b[39;00m\n\u001b[0;32m     19\u001b[0m missing_numbers \u001b[38;5;241m=\u001b[39m \u001b[38;5;28mlist\u001b[39m(all_numbers \u001b[38;5;241m-\u001b[39m \u001b[38;5;28mset\u001b[39m(numbers))\n",
      "\u001b[1;31mTypeError\u001b[0m: can only concatenate str (not \"int\") to str"
     ]
    }
   ],
   "source": [
    "import numpy as np\n",
    "import matplotlib.pyplot as plt\n",
    "import pandas as pd\n",
    "\n",
    "mydata = pd.read_csv(\"D:\\Missing numbers.csv\")\n",
    "\n",
    "    \n",
    "    # Extract the numbers from the contents, ignoring the header\n",
    "numbers = [int(line.strip()) for line in mydata[1:] if line.strip().isdigit()]\n",
    "\n",
    "# Find the range of numbers from the minimum to the maximum\n",
    "min_number = min(mydata)\n",
    "max_number = max(mydata)\n",
    "\n",
    "# Generate a list of all numbers in this range\n",
    "all_numbers = set(range(int((min_number, max_number + 1))))\n",
    "\n",
    "# Find the set of numbers that are missing by subtracting the set of existing numbers from the set of all numbers\n",
    "missing_numbers = list(all_numbers - set(numbers))\n",
    "\n",
    "# Sort the list of missing numbers for easier reading\n",
    "missing_numbers.sort()\n",
    "\n",
    "missing_numbers\n",
    "\n",
    "        \n",
    "\n",
    "    \n",
    "\n"
   ]
  },
  {
   "cell_type": "markdown",
   "metadata": {},
   "source": [
    "<font size = \"5\">\n",
    "\n",
    "1. For-loops to count conditional statements\n",
    "\n",
    "<font size = \"3\">\n",
    "\n",
    "   - Define a custom list of people's ages <br>\n",
    "   (write down ages for 8 people, between ten and fifty)\n",
    "   - Define an empty list called ```list_eligible```\n",
    "   - Use a For-Loop that goes through the ages of the 8 people, then appends the <br>\n",
    "   value ```True``` to  ```list_eligible``` if their age is greater than or equal to 16 <br>\n",
    "   and ```False``` otherwise\n"
   ]
  },
  {
   "cell_type": "code",
   "execution_count": 5,
   "metadata": {},
   "outputs": [
    {
     "name": "stdout",
     "output_type": "stream",
     "text": [
      "[False, True, True, True, True, True, True, True]\n"
     ]
    }
   ],
   "source": [
    "# Write your own code\n",
    "age_list = [15,18,20,21,29,39,22,37]\n",
    "list_eligible = []\n",
    "for age in age_list:\n",
    "    if age >=16:\n",
    "        list_eligible.append(True)\n",
    "    else:\n",
    "        list_eligible.append(False)\n",
    "print(list_eligible)\n",
    "\n",
    "\n",
    "                                       "
   ]
  },
  {
   "cell_type": "markdown",
   "metadata": {},
   "source": [
    "<font size = \"5\">\n",
    "\n",
    "2.  This is a follow-up to question 1. \n",
    "\n",
    "<font size = \"3\">\n",
    "\n",
    "- If you run ```np.sum(list_eligible)```, what value is Python assigning to <br>\n",
    " ```True``` or ```False``` elements in the sum? Write you answer as a comment.\n",
    "- How would you use this information to count the amount of people who are <br>\n",
    "**NOT** eligible? Write code that answers this question.\n",
    "\n",
    "   "
   ]
  },
  {
   "cell_type": "code",
   "execution_count": 6,
   "metadata": {},
   "outputs": [
    {
     "name": "stdout",
     "output_type": "stream",
     "text": [
      "1\n"
     ]
    }
   ],
   "source": [
    "# Write your own code\n",
    "np.sum(list_eligible)\n",
    "# Python assign value 1 to True and 0 to False\n",
    "print(len(age_list)-np.sum(list_eligible))\n",
    "\n",
    "\n"
   ]
  },
  {
   "cell_type": "markdown",
   "metadata": {},
   "source": [
    "<font size = \"5\">\n",
    "\n",
    "3. Use a For-Loop for message automation \n",
    "\n",
    "<font size = \"3\">\n",
    "\n",
    "- Write your own list of customer names\n",
    "- Print an automated message with the unique name of the customer that tells <br>\n",
    "them they've won a giveaway \n",
    "- How many messages to do you expect to see? Write code that automatically <br>\n",
    "prints the size of the customer list"
   ]
  },
  {
   "cell_type": "code",
   "execution_count": 7,
   "metadata": {},
   "outputs": [
    {
     "name": "stdout",
     "output_type": "stream",
     "text": [
      "Dear customer Daniel you won a giveaway\n",
      "Dear customer Emma you won a giveaway\n",
      "Dear customer Diego you won a giveaway\n",
      "3\n"
     ]
    }
   ],
   "source": [
    "# Write your own code\n",
    "customer_names = [\"Daniel\",\"Emma\",'Diego']\n",
    "index = 0\n",
    "for customer in customer_names:\n",
    "    print(\"Dear customer\", customer ,\"you won a giveaway\")\n",
    "    index = index + 1\n",
    "print(index)\n",
    "\n",
    "    "
   ]
  },
  {
   "cell_type": "markdown",
   "metadata": {},
   "source": [
    "<font size = '5'>\n",
    "\n",
    "4. For-Loops + Plotting\n",
    "\n",
    "<font size = \"3\">\n",
    "\n",
    "   - Create an array of x-values with all the integers between 1 and 10\n",
    "   - Create a vector ```vec_y1``` where each element is computed from <br>\n",
    "   the formula $ y_1 = 0.5x^4 + 2x^2 + 4x$.\n",
    "   - Create a vector ```vec_y2``` where each element is computed from <br>\n",
    "   the formula $ y_2 = 2x^3 + 4x + 4$.\n",
    "   - Create an object ```list_vectors``` with elements ```vec_y1``` and ```vec_y2```\n",
    "   - Create a for-loop that goes through each element of <br>\n",
    "   ```list_vectors``` and plots each list of $y$ values against $x$\n",
    "\n",
    "Note: The final output should be a 2 dimensional scatter plot with two sets, <br>\n",
    "of points, with the $y_1$ and $y_2$ on the vertical axis, and the $x$ values <br>\n",
    "on the horizontal axis. Remember to always label the axes to make it look <br>\n",
    "more professional."
   ]
  },
  {
   "cell_type": "code",
   "execution_count": 20,
   "metadata": {},
   "outputs": [
    {
     "name": "stdout",
     "output_type": "stream",
     "text": [
      "[1, 2, 3, 4, 5, 6, 7, 8, 9, 10]\n",
      "[6.5, 24.0, 70.5, 176.0, 382.5, 744.0, 1326.5, 2208.0, 3478.5, 5240.0]\n",
      "[10, 28, 70, 148, 274, 460, 718, 1060, 1498, 2044]\n"
     ]
    },
    {
     "data": {
      "text/plain": [
       "Text(0.5, 1.0, 'Graph of y values against x')"
      ]
     },
     "execution_count": 20,
     "metadata": {},
     "output_type": "execute_result"
    },
    {
     "data": {
      "image/png": "[encoded data removed]",
      "text/plain": [
       "<Figure size 640x480 with 1 Axes>"
      ]
     },
     "metadata": {},
     "output_type": "display_data"
    }
   ],
   "source": [
    "\n",
    "# Write your own code\n",
    "vec_x = list(range(1,11))\n",
    "# not sure the first question \"create an array of x values with all intergres between 1 and 10 should include 10 or not, my vec_x included 10\"\n",
    "print(vec_x)\n",
    "vec_y1 = []\n",
    "vec_y2 = []\n",
    "i = 0\n",
    "for x in vec_x:\n",
    "    vec_y1.append( 0.5*vec_x[i]**4 + 2*vec_x[i]**2 +4*vec_x[i])\n",
    "    i = i+1\n",
    "\n",
    "\n",
    "i = 0\n",
    "for x in vec_x:\n",
    "    vec_y2.append( 2*vec_x[i]**3 + 4*vec_x[i] +4)\n",
    "    i = i+1\n",
    "print(vec_y1)\n",
    "print(vec_y2)\n",
    "list_vectors = [vec_y1,vec_y2]\n",
    "\n",
    "for vec_y in list_vectors:\n",
    "    plt.scatter(vec_x, vec_y)\n",
    "plt.xlabel(\"x value\")\n",
    "plt.ylabel(\"y values\")\n",
    "plt.title(\"Graph of y values against x\")\n",
    "\n",
    "for grade in array_studentgrades:\n",
    "      i = 0\n",
    "      while i < len(array_letters):\n",
    "          if  array_lower[i] <= grade & grade <= array_upper[i]:\n",
    "               print(\"The student got a numeric grade of\" , grade, \"and their letter grade was\", array_letters[i])\n",
    "               break\n",
    "          else:\n",
    "             i = i + 1"
   ]
  },
  {
   "cell_type": "markdown",
   "metadata": {},
   "source": [
    "<font size = \"5\">\n",
    "\n",
    "5. Loops + Multiple Lists\n",
    "\n",
    "<font size =\"3\">\n",
    "\n",
    "Before starting, read the following information about nested loops:\n",
    "\n",
    "https://www.w3schools.com/python/gloss_python_for_nested.asp\n",
    "\n",
    "<img src=\"figures/grading_scale.png\" alt=\"drawing\" width=\"600\"/>\n",
    "\n",
    "- Convert the following three lists to arrays\n",
    "\n",
    "```list_lower = [93, 87, 83, 80, 75, 70, 65, 60, 55, 0] ``` <br>\n",
    "```list_upper = [100,92, 86, 82, 79, 74, 69, 64, 59, 54] ``` <br>\n",
    "```list_letters = [\"A\",\"A-\",\"B+\",\"B\",\"B-\",\"C+\",\"C\",\"C-\",\"D\",\"F\"] ```\n",
    "\n",
    "- Convert the following list of student grades to an array\n",
    "\n",
    "```list_studentgrades = [80, 70, 96, 65, 92] ```\n",
    "\n",
    "- Create a nested for-loop that outputs\n",
    "\n",
    "\"The student got a numeric grade of .... and their letter grade was ...\"\n",
    "\n",
    "Example of the procedure:\n",
    "1. Start with the first student on the list, who's grade is 80.\n",
    "2. Check whether the student's grade is an A by checking whether 80 is between <br>\n",
    "93 and 100. Then check whether it's a B by checking whether the grade is between <br>\n",
    "87 and 92, and so on. This is the \"inner loop\".\n",
    "3. Within the inner loop, if you find the right grade bracket, print the <br>\n",
    "desired message. Else, do not print anything.\n",
    "4. Do this procedure for all students, i.e. the \"outer loop\".\n",
    "\n",
    "\n",
    "\n"
   ]
  },
  {
   "cell_type": "code",
   "execution_count": 12,
   "metadata": {},
   "outputs": [
    {
     "name": "stdout",
     "output_type": "stream",
     "text": [
      "The student got a numeric grade of 80 and their letter grade was B\n",
      "The student got a numeric grade of 70 and their letter grade was C+\n",
      "The student got a numeric grade of 96 and their letter grade was A\n",
      "The student got a numeric grade of 65 and their letter grade was C\n",
      "The student got a numeric grade of 92 and their letter grade was A-\n"
     ]
    }
   ],
   "source": [
    "# Write your own code\n",
    "\n",
    "\n",
    "# Given lists\n",
    "list_lower = [93, 87, 83, 80, 75, 70, 65, 60, 55, 0]\n",
    "list_upper = [100, 92, 86, 82, 79, 74, 69, 64, 59, 54]\n",
    "list_letters = [\"A\", \"A-\", \"B+\", \"B\", \"B-\", \"C+\", \"C\", \"C-\", \"D\", \"F\"]\n",
    "list_studentgrades = [80, 70 , 96, 65, 92]\n",
    "\n",
    "array_lower = np.array(list_lower)\n",
    "array_upper = np.array(list_upper)\n",
    "array_letters = np.array(list_letters)\n",
    "array_studentgrades = np.array(list_studentgrades)\n",
    "\n",
    "\n",
    "\n",
    "for grade in array_studentgrades:\n",
    "    for i in range(len(list_letters)):\n",
    "        if list_lower[i] <= grade <= list_upper[i]:\n",
    "            print(f\"The student got a numeric grade of {grade} and their letter grade was {list_letters[i]}\")\n",
    "            break\n",
    "\n",
    "\n"
   ]
  }
 ],
 "metadata": {
  "kernelspec": {
   "display_name": "base",
   "language": "python",
   "name": "python3"
  },
  "language_info": {
   "codemirror_mode": {
    "name": "ipython",
    "version": 3
   },
   "file_extension": ".py",
   "mimetype": "text/x-python",
   "name": "python",
   "nbconvert_exporter": "python",
   "pygments_lexer": "ipython3",
   "version": "3.11.5"
  }
 },
 "nbformat": 4,
 "nbformat_minor": 2
}
