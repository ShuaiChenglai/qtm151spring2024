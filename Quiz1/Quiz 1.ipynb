{
 "cells": [
  {
   "attachments": {},
   "cell_type": "markdown",
   "metadata": {},
   "source": [
    "# <span style=\"color:darkblue\"> QTM 151 - Quiz 1 </span>"
   ]
  },
  {
   "attachments": {},
   "cell_type": "markdown",
   "metadata": {},
   "source": [
    "## Submit as an HTML file"
   ]
  },
  {
   "attachments": {},
   "cell_type": "markdown",
   "metadata": {},
   "source": [
    "<font size=\"5\"> \n",
    "\n",
    "Print your name below"
   ]
  },
  {
   "cell_type": "code",
   "execution_count": 1,
   "metadata": {},
   "outputs": [
    {
     "name": "stdout",
     "output_type": "stream",
     "text": [
      "Shuai Cheng David Lai\n"
     ]
    }
   ],
   "source": [
    "# Write your answer here\n",
    "\n",
    "print(\"Shuai Cheng David Lai\")"
   ]
  },
  {
   "attachments": {},
   "cell_type": "markdown",
   "metadata": {},
   "source": [
    "<font size = \"5\" >\n",
    "This quiz is open book \n",
    "\n",
    "- You can use the lecture notes\n",
    "- You will get partial credit for attempting the questions\n",
    "- To get full credit, the code should your as intended\n",
    "- You should <span style=\"color:red\"> NOT </span> communicate with other students\n",
    "\n",
    "Print the following message: <br>\n",
    "\n",
    "\"I will abide by Emory's code of conduct\"\n"
   ]
  },
  {
   "cell_type": "code",
   "execution_count": 2,
   "metadata": {},
   "outputs": [
    {
     "name": "stdout",
     "output_type": "stream",
     "text": [
      "I will abide by Emory's code of conduct\n"
     ]
    }
   ],
   "source": [
    "# Write your answer here:\n",
    "\n",
    "print(\"I will abide by Emory's code of conduct\")\n"
   ]
  },
  {
   "attachments": {},
   "cell_type": "markdown",
   "metadata": {},
   "source": [
    "<font size = \"5\">\n",
    "\n",
    "Import the libraries \"numpy\", \"matplotlib.pytplot\", and \"pandas\""
   ]
  },
  {
   "cell_type": "code",
   "execution_count": 2,
   "metadata": {},
   "outputs": [],
   "source": [
    "# Write your answer here\n",
    "\n",
    "import numpy as np\n",
    "import matplotlib.pyplot as plt\n",
    "import pandas as pd\n",
    "\n"
   ]
  },
  {
   "attachments": {},
   "cell_type": "markdown",
   "metadata": {},
   "source": [
    "<font size = \"5\">\n",
    "\n",
    "(a) Transform a list of values and plot it\n",
    "\n",
    "<font size = \"3\">\n",
    "\n",
    "- Create an array with the following values\n",
    "\n",
    "``` vec_x = [-5,-3, 0, 10, 20, 40] ```\n",
    "\n",
    "- Create a new vector ```vec_y``` with the following formula\n",
    "\n",
    "$\\qquad y = [cos(x)]^2$\n",
    "\n",
    "- Produce a scatter plot of \"vec_y\" against \"vec_x\"\n",
    "- Label the axes and the title\n",
    "- Change the color to \"red\", \"green\" or \"purple\" (you choose)\n",
    "\n",
    "Hint: You can use the numpy functions"
   ]
  },
  {
   "cell_type": "code",
   "execution_count": 4,
   "metadata": {},
   "outputs": [
    {
     "data": {
      "image/png": "[encoded data removed]",
      "text/plain": [
       "<Figure size 640x480 with 1 Axes>"
      ]
     },
     "metadata": {},
     "output_type": "display_data"
    }
   ],
   "source": [
    "# Write your answer here:\n",
    "\n",
    "vec_x  = np.array([-5,-3,0,10,20,40])\n",
    "\n",
    "vec_y = np.cos(vec_x)\n",
    "\n",
    "\n",
    "plt.scatter(x = vec_x, y = vec_y,color=\"red\")\n",
    "plt.title(\"vec_x vs vec_y\")\n",
    "plt.show()"
   ]
  },
  {
   "cell_type": "markdown",
   "metadata": {},
   "source": [
    "<font size = \"5\">\n",
    "\n",
    "(b) IF/ELSE statements\n",
    "\n",
    "<font size = \"3\">\n",
    "\n",
    "- Create two lists: \n",
    "\n",
    "``` list_fruits = [\"apple\",\"orange\",\"pear\",\"banana\"] ``` <br>\n",
    "``` list_colors = [\"blue\",\"red\",\"green\",\"orange\"] ```\n",
    "\n",
    "- Create a new variable ``` message = \"orange\" ```\n",
    "- Create an if/else that tests whether ``` message ``` is a <br>\n",
    "fruit and a color.  Print a message if the test is true.\n",
    "\n",
    "HINT: Use the \"in\" command to test whether an element is part <br>\n",
    "of a list (see Lecture 4) \n",
    "\n",
    "\n"
   ]
  },
  {
   "cell_type": "code",
   "execution_count": 5,
   "metadata": {},
   "outputs": [
    {
     "name": "stdout",
     "output_type": "stream",
     "text": [
      "True\n",
      "True\n"
     ]
    }
   ],
   "source": [
    "# Write your answer here:\n",
    "\n",
    "list_fruits = [\"apple\",\"orange\",\"pear\",\"banana\"]\n",
    "list_colors = {\"blue\",\"red\",\"green\",\"orange\"}\n",
    "message = \"orange\"\n",
    "print(message in list_fruits)\n",
    "print(message in list_colors)"
   ]
  },
  {
   "attachments": {},
   "cell_type": "markdown",
   "metadata": {},
   "source": [
    "<font size = \"5\">\n",
    "\n",
    "(c) Plot random variables ...\n",
    "\n",
    "<font size = \"3\">\n",
    "\n",
    "- Let $n = 1000$\n",
    "- Generate \"vec_x\" from a Normal with (loc = 2, scale = 1, size = n)\n",
    "- Generate \"vec_z\" from a chi square with (df = 2, size = n)\n",
    "- Generate \"vex_y\" from a uniform with  (low = 5,high = 10, size = n)\n",
    "- Plot two scatter plots: (vec_y vs vec_x) and (vec_z vs vec_x)\n",
    "    - Label the axes and title\n",
    "    - Each graph should have a different title\n",
    " \n",
    "To get full points, plot the histograms on a single row using the <br>\n",
    "subplots syntax (see Lecture 6)"
   ]
  },
  {
   "cell_type": "code",
   "execution_count": 6,
   "metadata": {},
   "outputs": [
    {
     "data": {
      "text/plain": [
       "Text(400.7790404040403, 0.5, 'vec_x')"
      ]
     },
     "execution_count": 6,
     "metadata": {},
     "output_type": "execute_result"
    },
    {
     "data": {
      "image/png": "[encoded data removed]",
      "text/plain": [
       "<Figure size 800x300 with 2 Axes>"
      ]
     },
     "metadata": {},
     "output_type": "display_data"
    }
   ],
   "source": [
    "# Write your answer here:\n",
    "fig, list_subfig = plt.subplots(1, 2,figsize = (8,3))\n",
    "plt.tight_layout()\n",
    "n = 1000\n",
    "vec_x  = np.random.normal(loc = 2, scale = 1, size = n)\n",
    "vec_z  = np.random.chisquare(df = 2, size = n)\n",
    "vec_y    = np.random.uniform(low = 5,high = 10, size = n)\n",
    "\n",
    "\n",
    "\n",
    "list_subfig[0].scatter(x = vec_y,y = vec_x,color=\"red\")\n",
    "list_subfig[0].set_title(\"vec_y vs vec_x\")\n",
    "list_subfig[0].set_xlabel(\"vec_y\")\n",
    "list_subfig[0].set_ylabel(\"vec_x\")\n",
    "\n",
    "list_subfig[1].scatter(x = vec_z,y = vec_x,color=\"red\")\n",
    "list_subfig[1].set_title(\"vec_z vs vec_x\")\n",
    "list_subfig[1].set_xlabel(\"vec_z\")\n",
    "list_subfig[1].set_ylabel(\"vec_x\")\n"
   ]
  },
  {
   "cell_type": "markdown",
   "metadata": {},
   "source": [
    "<font size = \"5\">\n",
    "\n",
    "(d) Create the following list of months\n",
    "\n",
    "<font size = \"3\">\n",
    "\n",
    "``` list_months = [\"August\",\"February\"] ``` <br>\n",
    "``` list_spring_semester = [\"January\",\"February\", \"March\",\"April\",\"May\"] ```\n",
    "\n",
    "Create a for-loop that checks whether each element of ```list_months ``` <br>\n",
    "belongs to the spring semester. Create a message with this result. The output <br>\n",
    "generated by your loop should look like this:\n",
    "\n",
    "\"August is NOT part of the Spring semester\" <br>\n",
    "\"February is part of the Spring semester\" <br>\n",
    "\n",
    "HINT: Use if/else statements inside the loop. <br>\n",
    "You can use the command \"in\" (see Lecture 4) to test whether <br>\n",
    "an element belongs to a list\n"
   ]
  },
  {
   "cell_type": "code",
   "execution_count": 19,
   "metadata": {},
   "outputs": [
    {
     "name": "stdout",
     "output_type": "stream",
     "text": [
      "August is NOT part of the Spring semester\n",
      "February is part of the Spring semester\n"
     ]
    }
   ],
   "source": [
    "# Write your answer here:\n",
    "list_months = [\"August\",\"February\"]\n",
    "list_spring_semester= [\"January\",\"February\",\"March\",\"April\",\"May\"]\n",
    "data = pd.read_csv(\"data_quiz/wdi_ageprop_2020.csv\")\n",
    "for month in list_months:\n",
    "        if month == list_spring_semester[0]:\n",
    "            print( month, \"is part of the Spring semester\")\n",
    "        elif month == list_spring_semester[1]:\n",
    "            print(month, \"is part of the Spring semester\")\n",
    "        elif month == list_spring_semester[2]:\n",
    "            print(month, \"is part of the Spring semester\")\n",
    "        elif month == list_spring_semester[3]:\n",
    "             print(month, \"is part of the Spring semester\")\n",
    "        elif month == list_spring_semester[4]:\n",
    "             print(month, \"is part of the Spring semester\")\n",
    "        else:\n",
    "             print(month,\"is NOT part of the Spring semester\")\n"
   ]
  },
  {
   "attachments": {},
   "cell_type": "markdown",
   "metadata": {},
   "source": [
    "<font size = \"5\">\n",
    "\n",
    "(e) Loop through dfferent variables and plot\n",
    "\n",
    "\n",
    "<font size = \"3\">\n",
    "\n",
    "- Read the dataset \"data_quiz/wdi_ageprop_2020.csv\"\n",
    "- Create a list of variable names with the following elements:\n",
    "\n",
    "``` list_varnames = [\"percent_ages0to14\",\"percent_ages15to64\"]  ```\n",
    "\n",
    "- Run a for loop that creates a histogram plot for each of the <br>\n",
    "variables on the list\n",
    "\n",
    "    - Label the axes (the y-axis can be called \"Frequency\")\n",
    "    - The loop should automatically create titles that look like this\n",
    "\n",
    "    \"Distribution for percent_ages0to14\" <br>\n",
    "    \"Distribution for percent_ages15to64\"\n",
    "\n",
    "\n",
    "Note: This exercise tells you how much the proportion of the populaton <br>\n",
    "in different ages varies across countries in 2020"
   ]
  },
  {
   "cell_type": "code",
   "execution_count": 8,
   "metadata": {},
   "outputs": [
    {
     "ename": "AttributeError",
     "evalue": "'str' object has no attribute 'items'",
     "output_type": "error",
     "traceback": [
      "\u001b[1;31m---------------------------------------------------------------------------\u001b[0m",
      "\u001b[1;31mAttributeError\u001b[0m                            Traceback (most recent call last)",
      "Cell \u001b[1;32mIn[8], line 11\u001b[0m\n\u001b[0;32m      9\u001b[0m plt\u001b[38;5;241m.\u001b[39mylabel(\u001b[38;5;124m\"\u001b[39m\u001b[38;5;124mfrequency\u001b[39m\u001b[38;5;124m\"\u001b[39m)\n\u001b[0;32m     10\u001b[0m plt\u001b[38;5;241m.\u001b[39mxlabel(\u001b[38;5;124m\"\u001b[39m\u001b[38;5;124mvariable_name\u001b[39m\u001b[38;5;124m\"\u001b[39m)\n\u001b[1;32m---> 11\u001b[0m plt\u001b[38;5;241m.\u001b[39mtitle(\u001b[38;5;124m\"\u001b[39m\u001b[38;5;124mDistribution for\u001b[39m\u001b[38;5;124m\"\u001b[39m,varnames)\n\u001b[0;32m     12\u001b[0m plt\u001b[38;5;241m.\u001b[39mshow()\n",
      "File \u001b[1;32mc:\\Users\\HONOR\\anaconda3\\Lib\\site-packages\\matplotlib\\pyplot.py:3084\u001b[0m, in \u001b[0;36mtitle\u001b[1;34m(label, fontdict, loc, pad, y, **kwargs)\u001b[0m\n\u001b[0;32m   3082\u001b[0m \u001b[38;5;129m@_copy_docstring_and_deprecators\u001b[39m(Axes\u001b[38;5;241m.\u001b[39mset_title)\n\u001b[0;32m   3083\u001b[0m \u001b[38;5;28;01mdef\u001b[39;00m \u001b[38;5;21mtitle\u001b[39m(label, fontdict\u001b[38;5;241m=\u001b[39m\u001b[38;5;28;01mNone\u001b[39;00m, loc\u001b[38;5;241m=\u001b[39m\u001b[38;5;28;01mNone\u001b[39;00m, pad\u001b[38;5;241m=\u001b[39m\u001b[38;5;28;01mNone\u001b[39;00m, \u001b[38;5;241m*\u001b[39m, y\u001b[38;5;241m=\u001b[39m\u001b[38;5;28;01mNone\u001b[39;00m, \u001b[38;5;241m*\u001b[39m\u001b[38;5;241m*\u001b[39mkwargs):\n\u001b[1;32m-> 3084\u001b[0m     \u001b[38;5;28;01mreturn\u001b[39;00m gca()\u001b[38;5;241m.\u001b[39mset_title(\n\u001b[0;32m   3085\u001b[0m         label, fontdict\u001b[38;5;241m=\u001b[39mfontdict, loc\u001b[38;5;241m=\u001b[39mloc, pad\u001b[38;5;241m=\u001b[39mpad, y\u001b[38;5;241m=\u001b[39my, \u001b[38;5;241m*\u001b[39m\u001b[38;5;241m*\u001b[39mkwargs)\n",
      "File \u001b[1;32mc:\\Users\\HONOR\\anaconda3\\Lib\\site-packages\\matplotlib\\axes\\_axes.py:179\u001b[0m, in \u001b[0;36mAxes.set_title\u001b[1;34m(self, label, fontdict, loc, pad, y, **kwargs)\u001b[0m\n\u001b[0;32m    177\u001b[0m title\u001b[38;5;241m.\u001b[39mupdate(default)\n\u001b[0;32m    178\u001b[0m \u001b[38;5;28;01mif\u001b[39;00m fontdict \u001b[38;5;129;01mis\u001b[39;00m \u001b[38;5;129;01mnot\u001b[39;00m \u001b[38;5;28;01mNone\u001b[39;00m:\n\u001b[1;32m--> 179\u001b[0m     title\u001b[38;5;241m.\u001b[39mupdate(fontdict)\n\u001b[0;32m    180\u001b[0m title\u001b[38;5;241m.\u001b[39m_internal_update(kwargs)\n\u001b[0;32m    181\u001b[0m \u001b[38;5;28;01mreturn\u001b[39;00m title\n",
      "File \u001b[1;32mc:\\Users\\HONOR\\anaconda3\\Lib\\site-packages\\matplotlib\\text.py:223\u001b[0m, in \u001b[0;36mText.update\u001b[1;34m(self, kwargs)\u001b[0m\n\u001b[0;32m    221\u001b[0m \u001b[38;5;28;01mdef\u001b[39;00m \u001b[38;5;21mupdate\u001b[39m(\u001b[38;5;28mself\u001b[39m, kwargs):\n\u001b[0;32m    222\u001b[0m     \u001b[38;5;66;03m# docstring inherited\u001b[39;00m\n\u001b[1;32m--> 223\u001b[0m     kwargs \u001b[38;5;241m=\u001b[39m cbook\u001b[38;5;241m.\u001b[39mnormalize_kwargs(kwargs, Text)\n\u001b[0;32m    224\u001b[0m     sentinel \u001b[38;5;241m=\u001b[39m \u001b[38;5;28mobject\u001b[39m()  \u001b[38;5;66;03m# bbox can be None, so use another sentinel.\u001b[39;00m\n\u001b[0;32m    225\u001b[0m     \u001b[38;5;66;03m# Update fontproperties first, as it has lowest priority.\u001b[39;00m\n",
      "File \u001b[1;32mc:\\Users\\HONOR\\anaconda3\\Lib\\site-packages\\matplotlib\\cbook\\__init__.py:1776\u001b[0m, in \u001b[0;36mnormalize_kwargs\u001b[1;34m(kw, alias_mapping)\u001b[0m\n\u001b[0;32m   1773\u001b[0m canonical_to_seen \u001b[38;5;241m=\u001b[39m {}\n\u001b[0;32m   1774\u001b[0m ret \u001b[38;5;241m=\u001b[39m {}  \u001b[38;5;66;03m# output dictionary\u001b[39;00m\n\u001b[1;32m-> 1776\u001b[0m \u001b[38;5;28;01mfor\u001b[39;00m k, v \u001b[38;5;129;01min\u001b[39;00m kw\u001b[38;5;241m.\u001b[39mitems():\n\u001b[0;32m   1777\u001b[0m     canonical \u001b[38;5;241m=\u001b[39m to_canonical\u001b[38;5;241m.\u001b[39mget(k, k)\n\u001b[0;32m   1778\u001b[0m     \u001b[38;5;28;01mif\u001b[39;00m canonical \u001b[38;5;129;01min\u001b[39;00m canonical_to_seen:\n",
      "\u001b[1;31mAttributeError\u001b[0m: 'str' object has no attribute 'items'"
     ]
    },
    {
     "data": {
      "image/png": "[encoded data removed]",
      "text/plain": [
       "<Figure size 640x480 with 1 Axes>"
      ]
     },
     "metadata": {},
     "output_type": "display_data"
    }
   ],
   "source": [
    "# Write your answer here:\n",
    "\n",
    "\n",
    "data = pd.read_csv(\"data_quiz/wdi_ageprop_2020.csv\")\n",
    "\n",
    "list_varnames = [\"percent_ages0to14\",\"percent_ages15to64\"]\n",
    "for varnames in list_varnames:\n",
    "    plt.hist(x = data[varnames])\n",
    "    plt.ylabel(\"frequency\")\n",
    "    plt.xlabel(\"variable_name\")\n",
    "    plt.title(\"Distribution for\",varnames)\n",
    "    plt.show()\n",
    "                          \n",
    "\n"
   ]
  },
  {
   "cell_type": "markdown",
   "metadata": {},
   "source": [
    "<font size = \"5\">\n",
    "\n",
    "(f) Run loop through different datasets and compute statistics\n",
    "\n",
    "<font size = \"3\">\n",
    "\n",
    "- Create a list with the \".csv\" dataset names (including their relative subfolder \"data_quiz/)\n",
    "- Run a for-loop over the list of dataset names. Inside the loop:\n",
    "    - Read the corresponding \".csv\" dataset.\n",
    "    - Print the mean of the variable \"percent_ages0to14\" in <br>\n",
    "    each dataset\n",
    "\n",
    "Note: This exercise tells you how much the proportion of the <br>\n",
    "population that is between 0 and 14 has varied <br>\n",
    "from year to year using real data from the World Development Index.\n",
    "\n"
   ]
  },
  {
   "cell_type": "code",
   "execution_count": 20,
   "metadata": {},
   "outputs": [
    {
     "name": "stdout",
     "output_type": "stream",
     "text": [
      "36.82095078354717\n",
      "32.17265501184906\n",
      "26.90657125728302\n"
     ]
    }
   ],
   "source": [
    "# Write your answer here:\n",
    "List = [\"data_quiz/wdi_ageprop_1980.csv\",\"data_quiz/wdi_ageprop_2000.csv\",\"data_quiz/wdi_ageprop_2020.csv\"]\n",
    "x = []\n",
    "for filenames in List:\n",
    "    data = pd.read_csv(filenames)\n",
    "    print(data[\"percent_ages0to14\"].mean())\n",
    "\n",
    "\n",
    "\n"
   ]
  }
 ],
 "metadata": {
  "kernelspec": {
   "display_name": "base",
   "language": "python",
   "name": "python3"
  },
  "language_info": {
   "codemirror_mode": {
    "name": "ipython",
    "version": 3
   },
   "file_extension": ".py",
   "mimetype": "text/x-python",
   "name": "python",
   "nbconvert_exporter": "python",
   "pygments_lexer": "ipython3",
   "version": "3.11.5"
  },
  "orig_nbformat": 4,
  "vscode": {
   "interpreter": {
    "hash": "45fc1f684f6f416f40889115beff3ddf69879b64cf4bfee48cb72a61e9d15d1a"
   }
  }
 },
 "nbformat": 4,
 "nbformat_minor": 2
}
